{
 "cells": [
  {
   "cell_type": "markdown",
   "id": "54d0c741-6c8d-4e55-a2a2-df0afd69775c",
   "metadata": {},
   "source": [
    "## Benchmarking\n",
    "\n",
    "Benchmark Doddle against the entire dictionary to see how well it performs"
   ]
  },
  {
   "cell_type": "code",
   "execution_count": null,
   "id": "77a9723c-2a69-4a84-89c9-9715e3942832",
   "metadata": {},
   "outputs": [],
   "source": [
    "from doddle import Doddle\n",
    "from doddle.boards import Scoreboard\n",
    "\n",
    "doddle = Doddle(solver_type='entropy')\n",
    "benchmark = doddle.benchmark('CRATE')\n",
    "benchmark"
   ]
  },
  {
   "cell_type": "markdown",
   "id": "58f18020-362f-4bcc-b50a-506255561e7f",
   "metadata": {},
   "source": [
    "## Decision Trees 🌴🌴🌴\n",
    "\n",
    "`pip install doddle[decision]`\n",
    "\n",
    "Once a benchmark has been calculated, you can easily render the full decision tree for the entire dictionary of solutions. The `digraph()` method takes an optional parameter that allows you to filter on specific games."
   ]
  },
  {
   "cell_type": "code",
   "execution_count": null,
   "id": "bbaa72aa-639d-416a-9d08-555f1b9204e7",
   "metadata": {},
   "outputs": [],
   "source": [
    "def get_worst_boards(game: Scoreboard) -> bool:\n",
    "    return game.rows[-1].n == 5\n",
    "\n",
    "benchmark.digraph(predicate=get_worst_boards)"
   ]
  }
 ],
 "metadata": {
  "kernelspec": {
   "display_name": "Python 3 (ipykernel)",
   "language": "python",
   "name": "python3"
  },
  "language_info": {
   "codemirror_mode": {
    "name": "ipython",
    "version": 3
   },
   "file_extension": ".py",
   "mimetype": "text/x-python",
   "name": "python",
   "nbconvert_exporter": "python",
   "pygments_lexer": "ipython3",
   "version": "3.10.4"
  }
 },
 "nbformat": 4,
 "nbformat_minor": 5
}
