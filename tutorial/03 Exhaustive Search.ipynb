{
 "cells": [
  {
   "cell_type": "markdown",
   "id": "dc2eb03c-69ed-42f2-9f3b-9948b2abdb50",
   "metadata": {},
   "source": [
    "## Exhaustive Search and the Theoretical Minimum\n",
    "Doddle is primarily a heuristic solver. However, it is possible to find a theoretically optimal tree via an exhaustive recursive search. To the best of my knowledge, [Alex Selby](http://sonorouschocolate.com/notes/index.php?title=The_best_strategies_for_Wordle) was the first to prove that `SALET` is capable of generating the optimal decision tree with a total of 7,920 guesses to solve the 2,315 problems from the original Wordle dataset. \n",
    "\n",
    "Here we show how to derive such a tree using Doddle. We will save the results to PDF so we can marvel at its beauty."
   ]
  },
  {
   "cell_type": "code",
   "execution_count": 1,
   "id": "d933f4e7-9c5e-42fe-8abe-efdefb676ac1",
   "metadata": {},
   "outputs": [
    {
     "name": "stderr",
     "output_type": "stream",
     "text": [
      "100%|██████████████████████████████████████████████████████████████████████████████████████████████████████████████████████████████████████████████████████████████████████████| 148/148 [05:10<00:00,  2.10s/it]\n"
     ]
    },
    {
     "data": {
      "text/plain": [
       "1 |                                                         (0)\n",
       "2 | ***                                                    (78)\n",
       "3 | **************************************************  (1,225)\n",
       "4 | ****************************************              (971)\n",
       "5 | **                                                     (41)\n",
       "\n",
       "Guess:    SALET\n",
       "Games:    2,315\n",
       "Guesses:  7,920\n",
       "Mean:     3.421\n",
       "Std:      0.589"
      ]
     },
     "execution_count": 1,
     "metadata": {},
     "output_type": "execute_result"
    }
   ],
   "source": [
    "from doddle import Doddle\n",
    "\n",
    "seed = 'SALET'\n",
    "doddle = Doddle()\n",
    "benchmark = doddle.tree_search(seed)\n",
    "benchmark"
   ]
  },
  {
   "cell_type": "code",
   "execution_count": 3,
   "id": "6cf9c291-b3a8-40f7-81ce-8d2d51e14076",
   "metadata": {},
   "outputs": [
    {
     "data": {
      "text/plain": [
       "'Doddle-SALET.pdf'"
      ]
     },
     "execution_count": 3,
     "metadata": {},
     "output_type": "execute_result"
    }
   ],
   "source": [
    "graph = benchmark.digraph()\n",
    "graph.render(format='pdf', outfile=f'Doddle-{seed}.pdf')"
   ]
  }
 ],
 "metadata": {
  "kernelspec": {
   "display_name": "Python 3 (ipykernel)",
   "language": "python",
   "name": "python3"
  },
  "language_info": {
   "codemirror_mode": {
    "name": "ipython",
    "version": 3
   },
   "file_extension": ".py",
   "mimetype": "text/x-python",
   "name": "python",
   "nbconvert_exporter": "python",
   "pygments_lexer": "ipython3",
   "version": "3.10.4"
  }
 },
 "nbformat": 4,
 "nbformat_minor": 5
}
