{
 "cells": [
  {
   "cell_type": "code",
   "execution_count": 1,
   "id": "516122f7-f8c0-411d-bbc1-44c6d43341df",
   "metadata": {},
   "outputs": [],
   "source": [
    "from doddle import Doddle\n",
    "doddle = Doddle(size=5, lazy_eval=True)"
   ]
  },
  {
   "cell_type": "code",
   "execution_count": 2,
   "id": "ceaa3319-ba99-4416-b992-6a5915b66d73",
   "metadata": {},
   "outputs": [
    {
     "name": "stdout",
     "output_type": "stream",
     "text": [
      "Doddle 7/9\n",
      "7️⃣3️⃣\n",
      "4️⃣5️⃣\n",
      "\n",
      "⬜🟨⬜⬜🟩 ⬜🟨⬜🟨🟩\n",
      "⬜🟩🟩⬜⬜ ⬜⬜🟩🟨⬜\n",
      "⬜⬜🟩⬜🟩 🟩🟩🟩🟩🟩\n",
      "⬜⬜🟨🟨⬜ ⬛⬛⬛⬛⬛\n",
      "⬜⬜🟩⬜⬜ ⬛⬛⬛⬛⬛\n",
      "⬜🟨⬜⬜🟨 ⬛⬛⬛⬛⬛\n",
      "🟩🟩🟩🟩🟩 ⬛⬛⬛⬛⬛\n",
      "\n",
      "⬜🟨⬜🟨🟨 🟨🟨🟨⬜⬜\n",
      "🟨⬜🟨⬜⬜ ⬜⬜🟩🟨🟨\n",
      "🟩⬜🟨🟨🟨 ⬜🟨🟩⬜⬜\n",
      "🟩🟩🟩🟩🟩 ⬜⬜⬜🟨⬜\n",
      "⬛⬛⬛⬛⬛ 🟩🟩🟩🟩🟩\n"
     ]
    }
   ],
   "source": [
    "scoreboard = doddle(answer=['FLAME', 'SNAKE', 'SPEAK', 'TRAIN'])\n",
    "emojis = scoreboard.emoji()\n",
    "print(emojis)"
   ]
  },
  {
   "cell_type": "code",
   "execution_count": 10,
   "id": "049a47ed-4b18-4f39-847e-d7dd9c7b0081",
   "metadata": {},
   "outputs": [
    {
     "name": "stdout",
     "output_type": "stream",
     "text": [
      "Doddle 7/6\n",
      "\n",
      "⬜🟨⬜⬜🟩\n",
      "⬜🟩🟩⬜⬜\n",
      "⬜⬜🟩⬜🟩\n",
      "⬜⬜🟨🟨⬜\n",
      "⬜⬜🟩⬜⬜\n",
      "⬜🟨⬜⬜🟨\n",
      "🟩🟩🟩🟩🟩\n"
     ]
    }
   ],
   "source": [
    "scor"
   ]
  }
 ],
 "metadata": {
  "kernelspec": {
   "display_name": "Python 3 (ipykernel)",
   "language": "python",
   "name": "python3"
  },
  "language_info": {
   "codemirror_mode": {
    "name": "ipython",
    "version": 3
   },
   "file_extension": ".py",
   "mimetype": "text/x-python",
   "name": "python",
   "nbconvert_exporter": "python",
   "pygments_lexer": "ipython3",
   "version": "3.10.2"
  }
 },
 "nbformat": 4,
 "nbformat_minor": 5
}
