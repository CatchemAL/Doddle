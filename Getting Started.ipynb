{
 "cells": [
  {
   "cell_type": "code",
   "execution_count": 2,
   "id": "516122f7-f8c0-411d-bbc1-44c6d43341df",
   "metadata": {},
   "outputs": [],
   "source": [
    "from doddle import Doddle\n",
    "doddle = Doddle(size=5, lazy_eval=False)"
   ]
  },
  {
   "cell_type": "code",
   "execution_count": 3,
   "id": "ceaa3319-ba99-4416-b992-6a5915b66d73",
   "metadata": {},
   "outputs": [
    {
     "name": "stdout",
     "output_type": "stream",
     "text": [
      "Doddle 5/7\n",
      "4️⃣\n",
      "5️⃣\n",
      "\n",
      "⬜🟨⬜🟨⬜\n",
      "🟨⬜🟩⬜⬜\n",
      "🟨⬜⬜🟨⬜\n",
      "🟩🟩🟩🟩🟩\n",
      "\n",
      "🟨🟨⬜🟨⬜\n",
      "⬜⬜🟩🟨⬜\n",
      "🟨⬜⬜⬜⬜\n",
      "🟩⬜🟩⬜🟩\n",
      "🟩🟩🟩🟩🟩\n"
     ]
    }
   ],
   "source": [
    "scoreboard = doddle(answer=['SHACK', 'SPARK'])\n",
    "emojis = scoreboard.emoji()\n",
    "print(emojis)"
   ]
  },
  {
   "cell_type": "code",
   "execution_count": 4,
   "id": "049a47ed-4b18-4f39-847e-d7dd9c7b0081",
   "metadata": {},
   "outputs": [
    {
     "data": {
      "text/html": [
       "\n",
       "        <table>\n",
       "        <thead>\n",
       "          <tr>\n",
       "            <th></th>\n",
       "            <th>Soln</th>\n",
       "            <th>Guess</th>\n",
       "            <th>Score</th>\n",
       "            <th>Poss</th>\n",
       "          </tr>\n",
       "        </thead>\n",
       "        <tbody>\n",
       "          \n",
       "            <tr>\n",
       "                <th>1</th>\n",
       "                <td><tt>SHACK</tt></td>\n",
       "                <td><tt>RAISE</tt></td>\n",
       "                <td>⬜🟨⬜🟨⬜</td>\n",
       "                <td>43</td>\n",
       "            </tr>\n",
       "            \n",
       "            <tr>\n",
       "                <th>1</th>\n",
       "                <td><tt>SPARK</tt></td>\n",
       "                <td><tt>RAISE</tt></td>\n",
       "                <td>🟨🟨⬜🟨⬜</td>\n",
       "                <td>21</td>\n",
       "            </tr>\n",
       "            <tr>\n",
       "                    <td colspan=\"5\" class=\"divider\"><hr /></td>\n",
       "                </tr>\n",
       "                \n",
       "            <tr>\n",
       "                <th>2</th>\n",
       "                <td><tt>SHACK</tt></td>\n",
       "                <td><tt>CLAPT</tt></td>\n",
       "                <td>🟨⬜🟩⬜⬜</td>\n",
       "                <td>3</td>\n",
       "            </tr>\n",
       "            \n",
       "            <tr>\n",
       "                <th>2</th>\n",
       "                <td><tt>SPARK</tt></td>\n",
       "                <td><tt>CLAPT</tt></td>\n",
       "                <td>⬜⬜🟩🟨⬜</td>\n",
       "                <td>2</td>\n",
       "            </tr>\n",
       "            <tr>\n",
       "                    <td colspan=\"5\" class=\"divider\"><hr /></td>\n",
       "                </tr>\n",
       "                \n",
       "            <tr>\n",
       "                <th>3</th>\n",
       "                <td><tt>SHACK</tt></td>\n",
       "                <td><tt>ABMHO</tt></td>\n",
       "                <td>🟨⬜⬜🟨⬜</td>\n",
       "                <td>1</td>\n",
       "            </tr>\n",
       "            \n",
       "            <tr>\n",
       "                <th>3</th>\n",
       "                <td><tt>SPARK</tt></td>\n",
       "                <td><tt>ABMHO</tt></td>\n",
       "                <td>🟨⬜⬜⬜⬜</td>\n",
       "                <td>1</td>\n",
       "            </tr>\n",
       "            <tr>\n",
       "                    <td colspan=\"5\" class=\"divider\"><hr /></td>\n",
       "                </tr>\n",
       "                \n",
       "            <tr>\n",
       "                <th>4</th>\n",
       "                <td><tt>SHACK</tt></td>\n",
       "                <td><tt>SHACK</tt></td>\n",
       "                <td>🟩🟩🟩🟩🟩</td>\n",
       "                <td></td>\n",
       "            </tr>\n",
       "            \n",
       "            <tr>\n",
       "                <th>4</th>\n",
       "                <td><tt>SPARK</tt></td>\n",
       "                <td><tt>SHACK</tt></td>\n",
       "                <td>🟩⬜🟩⬜🟩</td>\n",
       "                <td>1</td>\n",
       "            </tr>\n",
       "            <tr>\n",
       "                    <td colspan=\"5\" class=\"divider\"><hr /></td>\n",
       "                </tr>\n",
       "                \n",
       "            <tr>\n",
       "                <th>5</th>\n",
       "                <td><tt>SPARK</tt></td>\n",
       "                <td><tt>SPARK</tt></td>\n",
       "                <td>🟩🟩🟩🟩🟩</td>\n",
       "                <td></td>\n",
       "            </tr>\n",
       "            \n",
       "        </tbody>\n",
       "        </table>\n",
       "        "
      ],
      "text/plain": [
       "Soln=SHACK (9 guesses)"
      ]
     },
     "execution_count": 4,
     "metadata": {},
     "output_type": "execute_result"
    }
   ],
   "source": [
    "scoreboard"
   ]
  }
 ],
 "metadata": {
  "kernelspec": {
   "display_name": "Python 3 (ipykernel)",
   "language": "python",
   "name": "python3"
  },
  "language_info": {
   "codemirror_mode": {
    "name": "ipython",
    "version": 3
   },
   "file_extension": ".py",
   "mimetype": "text/x-python",
   "name": "python",
   "nbconvert_exporter": "python",
   "pygments_lexer": "ipython3",
   "version": "3.10.2"
  }
 },
 "nbformat": 4,
 "nbformat_minor": 5
}
