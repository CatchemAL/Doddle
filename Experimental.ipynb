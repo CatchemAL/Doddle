{
 "cells": [
  {
   "cell_type": "code",
   "execution_count": 1,
   "id": "89597dc7-9f72-4a69-9cef-ec0d36d3f17d",
   "metadata": {},
   "outputs": [],
   "source": [
    "from doddle.view_models import Scoreboard\n",
    "from doddle.words import Word"
   ]
  },
  {
   "cell_type": "code",
   "execution_count": 2,
   "id": "4c565168-e10d-41dd-a6b2-4e86a64042e5",
   "metadata": {},
   "outputs": [
    {
     "name": "stdout",
     "output_type": "stream",
     "text": [
      "⬜⬜⬜⬜⬜\n",
      "⬜⬜⬜⬜⬜\n",
      "⬜🟨⬜🟩⬜\n",
      "🟩⬜🟨⬜🟨\n",
      "🟩🟩⬜🟩🟩\n"
     ]
    }
   ],
   "source": [
    "scoreboard = Scoreboard()\n",
    "scoreboard.add_row(1, Word(\"FIBER\"), Word(\"RAISE\"), \"00000\", 369)\n",
    "scoreboard.add_row(2, Word(\"FIBER\"), Word(\"MOUND\"), \"00000\",  46)\n",
    "scoreboard.add_row(3, Word(\"FIBER\"), Word(\"CREEP\"), \"01020\",   4)\n",
    "scoreboard.add_row(4, Word(\"FIBER\"), Word(\"FORGE\"), \"20101\",   2)\n",
    "scoreboard.add_row(5, Word(\"FIBER\"), Word(\"FIVER\"), \"22022\",   2)\n",
    "print(scoreboard.summary())"
   ]
  },
  {
   "cell_type": "code",
   "execution_count": 3,
   "id": "25eb0b57-5eac-4517-aa8e-a43628f556d1",
   "metadata": {},
   "outputs": [
    {
     "data": {
      "text/html": [
       "<div>\n",
       "<style scoped>\n",
       "    .dataframe tbody tr th:only-of-type {\n",
       "        vertical-align: middle;\n",
       "    }\n",
       "\n",
       "    .dataframe tbody tr th {\n",
       "        vertical-align: top;\n",
       "    }\n",
       "\n",
       "    .dataframe thead th {\n",
       "        text-align: right;\n",
       "    }\n",
       "</style>\n",
       "<table border=\"1\" class=\"dataframe\">\n",
       "  <thead>\n",
       "    <tr style=\"text-align: right;\">\n",
       "      <th></th>\n",
       "      <th>Soln</th>\n",
       "      <th>Guess</th>\n",
       "      <th>Score</th>\n",
       "      <th>Poss</th>\n",
       "    </tr>\n",
       "    <tr>\n",
       "      <th>n</th>\n",
       "      <th></th>\n",
       "      <th></th>\n",
       "      <th></th>\n",
       "      <th></th>\n",
       "    </tr>\n",
       "  </thead>\n",
       "  <tbody>\n",
       "    <tr>\n",
       "      <th>1</th>\n",
       "      <td>FIBER</td>\n",
       "      <td>RAISE</td>\n",
       "      <td>⬜⬜⬜⬜⬜</td>\n",
       "      <td>369</td>\n",
       "    </tr>\n",
       "    <tr>\n",
       "      <th>2</th>\n",
       "      <td>FIBER</td>\n",
       "      <td>MOUND</td>\n",
       "      <td>⬜⬜⬜⬜⬜</td>\n",
       "      <td>46</td>\n",
       "    </tr>\n",
       "    <tr>\n",
       "      <th>3</th>\n",
       "      <td>FIBER</td>\n",
       "      <td>CREEP</td>\n",
       "      <td>⬜🟨⬜🟩⬜</td>\n",
       "      <td>4</td>\n",
       "    </tr>\n",
       "    <tr>\n",
       "      <th>4</th>\n",
       "      <td>FIBER</td>\n",
       "      <td>FORGE</td>\n",
       "      <td>🟩⬜🟨⬜🟨</td>\n",
       "      <td>2</td>\n",
       "    </tr>\n",
       "    <tr>\n",
       "      <th>5</th>\n",
       "      <td>FIBER</td>\n",
       "      <td>FIVER</td>\n",
       "      <td>🟩🟩⬜🟩🟩</td>\n",
       "      <td>2</td>\n",
       "    </tr>\n",
       "  </tbody>\n",
       "</table>\n",
       "</div>"
      ],
      "text/plain": [
       "    Soln  Guess  Score  Poss\n",
       "n                           \n",
       "1  FIBER  RAISE  ⬜⬜⬜⬜⬜   369\n",
       "2  FIBER  MOUND  ⬜⬜⬜⬜⬜    46\n",
       "3  FIBER  CREEP  ⬜🟨⬜🟩⬜     4\n",
       "4  FIBER  FORGE  🟩⬜🟨⬜🟨     2\n",
       "5  FIBER  FIVER  🟩🟩⬜🟩🟩     2"
      ]
     },
     "execution_count": 3,
     "metadata": {},
     "output_type": "execute_result"
    }
   ],
   "source": [
    "scoreboard.df()"
   ]
  }
 ],
 "metadata": {
  "kernelspec": {
   "display_name": "Python 3 (ipykernel)",
   "language": "python",
   "name": "python3"
  },
  "language_info": {
   "codemirror_mode": {
    "name": "ipython",
    "version": 3
   },
   "file_extension": ".py",
   "mimetype": "text/x-python",
   "name": "python",
   "nbconvert_exporter": "python",
   "pygments_lexer": "ipython3",
   "version": "3.10.2"
  }
 },
 "nbformat": 4,
 "nbformat_minor": 5
}
