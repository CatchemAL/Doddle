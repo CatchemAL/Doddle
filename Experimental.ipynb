{
 "cells": [
  {
   "cell_type": "code",
   "execution_count": 1,
   "id": "516122f7-f8c0-411d-bbc1-44c6d43341df",
   "metadata": {},
   "outputs": [],
   "source": [
    "from doddle import Doddle\n",
    "doddle = Doddle(size=5, lazy_eval=False)"
   ]
  },
  {
   "cell_type": "code",
   "execution_count": 8,
   "id": "ceaa3319-ba99-4416-b992-6a5915b66d73",
   "metadata": {},
   "outputs": [
    {
     "name": "stdout",
     "output_type": "stream",
     "text": [
      "Doddle 3/6\n",
      "\n",
      "🟨⬜⬜⬜🟨\n",
      "⬜🟩⬜🟨🟨\n",
      "🟩🟩🟩🟩🟩\n"
     ]
    }
   ],
   "source": [
    "scoreboard = doddle(answer=['QUERY'])\n",
    "emojis = scoreboard.emoji()\n",
    "print(emojis)"
   ]
  },
  {
   "cell_type": "code",
   "execution_count": 9,
   "id": "049a47ed-4b18-4f39-847e-d7dd9c7b0081",
   "metadata": {},
   "outputs": [
    {
     "data": {
      "text/html": [
       "<div>\n",
       "<style scoped>\n",
       "    .dataframe tbody tr th:only-of-type {\n",
       "        vertical-align: middle;\n",
       "    }\n",
       "\n",
       "    .dataframe tbody tr th {\n",
       "        vertical-align: top;\n",
       "    }\n",
       "\n",
       "    .dataframe thead th {\n",
       "        text-align: right;\n",
       "    }\n",
       "</style>\n",
       "<table border=\"1\" class=\"dataframe\">\n",
       "  <thead>\n",
       "    <tr style=\"text-align: right;\">\n",
       "      <th></th>\n",
       "      <th>Soln</th>\n",
       "      <th>Guess</th>\n",
       "      <th>Score</th>\n",
       "      <th>Poss</th>\n",
       "    </tr>\n",
       "  </thead>\n",
       "  <tbody>\n",
       "    <tr>\n",
       "      <th>1</th>\n",
       "      <td>QUERY</td>\n",
       "      <td>RAISE</td>\n",
       "      <td>🟨⬜⬜⬜🟨</td>\n",
       "      <td>102</td>\n",
       "    </tr>\n",
       "    <tr>\n",
       "      <th>2</th>\n",
       "      <td>QUERY</td>\n",
       "      <td>OUTER</td>\n",
       "      <td>⬜🟩⬜🟨🟨</td>\n",
       "      <td>1</td>\n",
       "    </tr>\n",
       "    <tr>\n",
       "      <th>3</th>\n",
       "      <td>QUERY</td>\n",
       "      <td>QUERY</td>\n",
       "      <td>🟩🟩🟩🟩🟩</td>\n",
       "      <td>1</td>\n",
       "    </tr>\n",
       "  </tbody>\n",
       "</table>\n",
       "</div>"
      ],
      "text/plain": [
       "    Soln  Guess  Score  Poss\n",
       "1  QUERY  RAISE  🟨⬜⬜⬜🟨   102\n",
       "2  QUERY  OUTER  ⬜🟩⬜🟨🟨     1\n",
       "3  QUERY  QUERY  🟩🟩🟩🟩🟩     1"
      ]
     },
     "execution_count": 9,
     "metadata": {},
     "output_type": "execute_result"
    }
   ],
   "source": [
    "scoreboard.df()"
   ]
  }
 ],
 "metadata": {
  "kernelspec": {
   "display_name": "Python 3 (ipykernel)",
   "language": "python",
   "name": "python3"
  },
  "language_info": {
   "codemirror_mode": {
    "name": "ipython",
    "version": 3
   },
   "file_extension": ".py",
   "mimetype": "text/x-python",
   "name": "python",
   "nbconvert_exporter": "python",
   "pygments_lexer": "ipython3",
   "version": "3.10.2"
  }
 },
 "nbformat": 4,
 "nbformat_minor": 5
}
