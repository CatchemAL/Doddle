{
 "cells": [
  {
   "cell_type": "code",
   "execution_count": 1,
   "id": "516122f7-f8c0-411d-bbc1-44c6d43341df",
   "metadata": {},
   "outputs": [],
   "source": [
    "from doddle import Doddle\n",
    "doddle = Doddle(size=5, lazy_eval=False)"
   ]
  },
  {
   "cell_type": "code",
   "execution_count": 3,
   "id": "ceaa3319-ba99-4416-b992-6a5915b66d73",
   "metadata": {},
   "outputs": [
    {
     "name": "stdout",
     "output_type": "stream",
     "text": [
      "Doddle 4/6\n",
      "\n",
      "⬜⬜⬜⬜⬜\n",
      "⬜🟨🟨🟨⬜\n",
      "⬜⬜🟨⬜🟩\n",
      "🟩🟩🟩🟩🟩\n"
     ]
    },
    {
     "data": {
      "text/html": [
       "<div>\n",
       "<style scoped>\n",
       "    .dataframe tbody tr th:only-of-type {\n",
       "        vertical-align: middle;\n",
       "    }\n",
       "\n",
       "    .dataframe tbody tr th {\n",
       "        vertical-align: top;\n",
       "    }\n",
       "\n",
       "    .dataframe thead th {\n",
       "        text-align: right;\n",
       "    }\n",
       "</style>\n",
       "<table border=\"1\" class=\"dataframe\">\n",
       "  <thead>\n",
       "    <tr style=\"text-align: right;\">\n",
       "      <th></th>\n",
       "      <th>Soln</th>\n",
       "      <th>Guess</th>\n",
       "      <th>Score</th>\n",
       "      <th>Poss</th>\n",
       "    </tr>\n",
       "  </thead>\n",
       "  <tbody>\n",
       "    <tr>\n",
       "      <th>1</th>\n",
       "      <td>SNAKE</td>\n",
       "      <td>LIGHT</td>\n",
       "      <td>⬜⬜⬜⬜⬜</td>\n",
       "      <td>532</td>\n",
       "    </tr>\n",
       "    <tr>\n",
       "      <th>2</th>\n",
       "      <td>SNAKE</td>\n",
       "      <td>RASED</td>\n",
       "      <td>⬜🟨🟨🟨⬜</td>\n",
       "      <td>9</td>\n",
       "    </tr>\n",
       "    <tr>\n",
       "      <th>3</th>\n",
       "      <td>SNAKE</td>\n",
       "      <td>BUNCE</td>\n",
       "      <td>⬜⬜🟨⬜🟩</td>\n",
       "      <td>1</td>\n",
       "    </tr>\n",
       "    <tr>\n",
       "      <th>4</th>\n",
       "      <td>SNAKE</td>\n",
       "      <td>SNAKE</td>\n",
       "      <td>🟩🟩🟩🟩🟩</td>\n",
       "      <td>1</td>\n",
       "    </tr>\n",
       "  </tbody>\n",
       "</table>\n",
       "</div>"
      ],
      "text/plain": [
       "    Soln  Guess  Score  Poss\n",
       "1  SNAKE  LIGHT  ⬜⬜⬜⬜⬜   532\n",
       "2  SNAKE  RASED  ⬜🟨🟨🟨⬜     9\n",
       "3  SNAKE  BUNCE  ⬜⬜🟨⬜🟩     1\n",
       "4  SNAKE  SNAKE  🟩🟩🟩🟩🟩     1"
      ]
     },
     "execution_count": 3,
     "metadata": {},
     "output_type": "execute_result"
    }
   ],
   "source": [
    "scoreboard = doddle(answer='SNAKE', guess=['LIGHT'])\n",
    "print(scoreboard.summary())\n",
    "scoreboard.df()"
   ]
  }
 ],
 "metadata": {
  "kernelspec": {
   "display_name": "Python 3 (ipykernel)",
   "language": "python",
   "name": "python3"
  },
  "language_info": {
   "codemirror_mode": {
    "name": "ipython",
    "version": 3
   },
   "file_extension": ".py",
   "mimetype": "text/x-python",
   "name": "python",
   "nbconvert_exporter": "python",
   "pygments_lexer": "ipython3",
   "version": "3.10.2"
  }
 },
 "nbformat": 4,
 "nbformat_minor": 5
}
