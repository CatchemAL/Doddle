{
 "cells": [
  {
   "cell_type": "code",
   "execution_count": 1,
   "id": "516122f7-f8c0-411d-bbc1-44c6d43341df",
   "metadata": {},
   "outputs": [],
   "source": [
    "from doddle import Doddle\n",
    "doddle = Doddle(size=5, lazy_eval=False)"
   ]
  },
  {
   "cell_type": "code",
   "execution_count": 5,
   "id": "ceaa3319-ba99-4416-b992-6a5915b66d73",
   "metadata": {},
   "outputs": [
    {
     "name": "stdout",
     "output_type": "stream",
     "text": [
      "Doddle 8/9\n",
      "8️⃣4️⃣\n",
      "5️⃣6️⃣\n",
      "\n",
      "⬜🟨⬜⬜🟩 ⬜🟨⬜🟨🟩\n",
      "⬜🟩⬜⬜⬜ ⬜⬜⬜⬜⬜\n",
      "⬜⬜🟨⬜⬜ ⬜⬜⬜⬜🟨\n",
      "⬜⬜🟩⬜🟩 🟩🟩🟩🟩🟩\n",
      "⬜⬜🟩⬜⬜ ⬛⬛⬛⬛⬛\n",
      "🟨⬜⬜⬜⬜ ⬛⬛⬛⬛⬛\n",
      "⬜🟩🟩🟩🟩 ⬛⬛⬛⬛⬛\n",
      "🟩🟩🟩🟩🟩 ⬛⬛⬛⬛⬛\n",
      "\n",
      "🟨🟨⬜🟩⬜ ⬜⬜⬜⬜⬜\n",
      "⬜⬜⬜⬜⬜ ⬜⬜🟨⬜⬜\n",
      "🟩⬜⬜⬜🟩 ⬜🟨🟨⬜⬜\n",
      "🟨⬜🟩⬜⬜ ⬜🟨⬜⬜⬜\n",
      "🟩🟩🟩🟩🟩 ⬜⬜⬜⬜⬜\n",
      "⬛⬛⬛⬛⬛ 🟩🟩🟩🟩🟩\n"
     ]
    }
   ],
   "source": [
    "scoreboard = doddle(answer=['FLAME', 'SNAKE', 'GRASS', 'MOUND'])\n",
    "emojis = scoreboard.emoji()\n",
    "print(emojis)"
   ]
  },
  {
   "cell_type": "code",
   "execution_count": 7,
   "id": "049a47ed-4b18-4f39-847e-d7dd9c7b0081",
   "metadata": {},
   "outputs": [
    {
     "data": {
      "text/html": [
       "\n",
       "        <table>\n",
       "        <thead>\n",
       "          <tr>\n",
       "            <th></th>\n",
       "            <th>Soln</th>\n",
       "            <th>Guess</th>\n",
       "            <th>Score</th>\n",
       "            <th>Poss</th>\n",
       "          </tr>\n",
       "        </thead>\n",
       "        <tbody>\n",
       "          \n",
       "            <tr>\n",
       "                <th>1</th>\n",
       "                <td><tt>FLAME</tt></td>\n",
       "                <td><tt>RAISE</tt></td>\n",
       "                <td>⬜🟨⬜⬜🟩</td>\n",
       "                <td>41</td>\n",
       "            </tr>\n",
       "            \n",
       "            <tr>\n",
       "                <th>2</th>\n",
       "                <td><tt>FLAME</tt></td>\n",
       "                <td><tt>CLOTH</tt></td>\n",
       "                <td>⬜🟩⬜⬜⬜</td>\n",
       "                <td>9</td>\n",
       "            </tr>\n",
       "            \n",
       "            <tr>\n",
       "                <th>3</th>\n",
       "                <td><tt>FLAME</tt></td>\n",
       "                <td><tt>GUMPS</tt></td>\n",
       "                <td>⬜⬜🟨⬜⬜</td>\n",
       "                <td>2</td>\n",
       "            </tr>\n",
       "            \n",
       "            <tr>\n",
       "                <th>4</th>\n",
       "                <td><tt>FLAME</tt></td>\n",
       "                <td><tt>SNAKE</tt></td>\n",
       "                <td>⬜⬜🟩⬜🟩</td>\n",
       "                <td>2</td>\n",
       "            </tr>\n",
       "            \n",
       "            <tr>\n",
       "                <th>5</th>\n",
       "                <td><tt>FLAME</tt></td>\n",
       "                <td><tt>GRASS</tt></td>\n",
       "                <td>⬜⬜🟩⬜⬜</td>\n",
       "                <td>2</td>\n",
       "            </tr>\n",
       "            \n",
       "            <tr>\n",
       "                <th>6</th>\n",
       "                <td><tt>FLAME</tt></td>\n",
       "                <td><tt>MOUND</tt></td>\n",
       "                <td>🟨⬜⬜⬜⬜</td>\n",
       "                <td>2</td>\n",
       "            </tr>\n",
       "            \n",
       "            <tr>\n",
       "                <th>7</th>\n",
       "                <td><tt>FLAME</tt></td>\n",
       "                <td><tt>BLAME</tt></td>\n",
       "                <td>⬜🟩🟩🟩🟩</td>\n",
       "                <td>1</td>\n",
       "            </tr>\n",
       "            \n",
       "            <tr>\n",
       "                <th>8</th>\n",
       "                <td><tt>FLAME</tt></td>\n",
       "                <td><tt>FLAME</tt></td>\n",
       "                <td>🟩🟩🟩🟩🟩</td>\n",
       "                <td>1</td>\n",
       "            </tr>\n",
       "            \n",
       "        </tbody>\n",
       "        </table>\n",
       "        "
      ],
      "text/plain": [
       "Soln=FLAME (8 guesses)"
      ]
     },
     "execution_count": 7,
     "metadata": {},
     "output_type": "execute_result"
    }
   ],
   "source": [
    "scoreboard.many()[0]"
   ]
  },
  {
   "cell_type": "code",
   "execution_count": 15,
   "id": "288bd09c-9cfb-4eaf-8c35-33d30cd1338c",
   "metadata": {
    "tags": []
   },
   "outputs": [
    {
     "name": "stdout",
     "output_type": "stream",
     "text": [
      "[This is the repr representation, This is the repr representation]\n",
      "This is the str representation\n"
     ]
    },
    {
     "data": {
      "text/plain": [
       "MyObject[...pretty...]"
      ]
     },
     "execution_count": 15,
     "metadata": {},
     "output_type": "execute_result"
    }
   ],
   "source": [
    "class MyObject:\n",
    "\n",
    "    def __str__(self):\n",
    "        return 'This is the str representation'\n",
    "    \n",
    "    def __repr__(self):\n",
    "        return 'This is the repr representation'\n",
    "    \n",
    "    def _repr_pretty_(self, p, cycle):\n",
    "        if cycle:\n",
    "            p.text('MyObject(...pretty-cycle...)')\n",
    "        else:\n",
    "            p.text('MyObject[...pretty...]')\n",
    "\n",
    "s1 = MyObject()\n",
    "s2 = MyObject()\n",
    "s = [s1, s2]\n",
    "print(s)\n",
    "print(s1)\n",
    "s1"
   ]
  },
  {
   "cell_type": "code",
   "execution_count": 29,
   "id": "97c4f9db-b101-40c1-8b5d-5d5f0d08e36a",
   "metadata": {},
   "outputs": [
    {
     "name": "stdout",
     "output_type": "stream",
     "text": [
      "    Soln  Guess  Score  Poss\n",
      "1  FLAME  RAISE  ⬜🟨⬜⬜🟩    41\n",
      "2  FLAME  CLOTH  ⬜🟩⬜⬜⬜     9\n",
      "3  FLAME  GUMPS  ⬜⬜🟨⬜⬜     2\n",
      "4  FLAME  SNAKE  ⬜⬜🟩⬜🟩     2\n",
      "5  FLAME  GRASS  ⬜⬜🟩⬜⬜     2\n",
      "6  FLAME  MOUND  🟨⬜⬜⬜⬜     2\n",
      "7  FLAME  BLAME  ⬜🟩🟩🟩🟩     1\n",
      "8  FLAME  FLAME  🟩🟩🟩🟩🟩     1\n"
     ]
    }
   ],
   "source": [
    "dfs = [sb.df() for sb in scoreboard.many()]\n",
    "# print(str(dfs))\n",
    "print(dfs[0])"
   ]
  }
 ],
 "metadata": {
  "kernelspec": {
   "display_name": "Python 3 (ipykernel)",
   "language": "python",
   "name": "python3"
  },
  "language_info": {
   "codemirror_mode": {
    "name": "ipython",
    "version": 3
   },
   "file_extension": ".py",
   "mimetype": "text/x-python",
   "name": "python",
   "nbconvert_exporter": "python",
   "pygments_lexer": "ipython3",
   "version": "3.10.2"
  }
 },
 "nbformat": 4,
 "nbformat_minor": 5
}
