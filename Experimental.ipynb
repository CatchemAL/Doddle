{
 "cells": [
  {
   "cell_type": "code",
   "execution_count": 1,
   "id": "516122f7-f8c0-411d-bbc1-44c6d43341df",
   "metadata": {},
   "outputs": [],
   "source": [
    "from doddle import Doddle\n",
    "doddle = Doddle(size=5, lazy_eval=True)"
   ]
  },
  {
   "cell_type": "code",
   "execution_count": 5,
   "id": "ceaa3319-ba99-4416-b992-6a5915b66d73",
   "metadata": {},
   "outputs": [
    {
     "name": "stdout",
     "output_type": "stream",
     "text": [
      "Doddle 8/6\n",
      "\n",
      "🟩⬜🟨⬜⬜ ⬜⬜⬜⬜⬜\n",
      "⬜⬜⬜⬜⬜ 🟨🟩⬜⬜🟩\n",
      "⬜⬜⬜⬜⬜ 🟩⬜⬜⬜⬜\n",
      "🟩🟩🟩🟩🟩 ⬜⬜⬜⬜⬜\n",
      "⬛⬛⬛⬛⬛ 🟩🟩🟩🟩🟩\n",
      "\n",
      "⬜🟨⬜⬜⬜ ⬜🟩⬜⬜⬜\n",
      "🟨⬜⬜⬜⬜ 🟨⬜⬜⬜🟨\n",
      "🟩⬜🟨⬜⬜ ⬜⬜🟨⬜🟩\n",
      "⬜⬜⬜⬜⬜ ⬜⬜⬜⬜⬜\n",
      "🟩⬜🟩🟨⬜ ⬜⬜🟨⬜🟨\n",
      "🟩🟩🟩🟩🟩 ⬜⬜🟨🟨⬜\n",
      "⬛⬛⬛⬛⬛ ⬜⬜⬜⬜🟩\n",
      "⬛⬛⬛⬛⬛ 🟩🟩🟩🟩🟩\n",
      "\n",
      "⬜⬜⬜🟩⬜\n",
      "⬜⬜⬜⬜⬜\n",
      "⬜⬜⬜⬜🟩\n",
      "⬜⬜⬜⬜⬜\n",
      "⬜⬜⬜⬜⬜\n",
      "⬜⬜⬜⬜⬜\n",
      "🟩🟩🟩🟩🟩\n"
     ]
    }
   ],
   "source": [
    "scoreboard = doddle(answer=['FUZZY', 'SNAKE', 'SHARK', 'BREAD', 'VIVID'], guess='FRUIT')\n",
    "print(scoreboard.emoji())\n",
    "# scoreboard.df()"
   ]
  }
 ],
 "metadata": {
  "kernelspec": {
   "display_name": "Python 3 (ipykernel)",
   "language": "python",
   "name": "python3"
  },
  "language_info": {
   "codemirror_mode": {
    "name": "ipython",
    "version": 3
   },
   "file_extension": ".py",
   "mimetype": "text/x-python",
   "name": "python",
   "nbconvert_exporter": "python",
   "pygments_lexer": "ipython3",
   "version": "3.10.2"
  }
 },
 "nbformat": 4,
 "nbformat_minor": 5
}
