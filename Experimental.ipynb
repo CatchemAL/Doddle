{
 "cells": [
  {
   "cell_type": "code",
   "execution_count": null,
   "id": "516122f7-f8c0-411d-bbc1-44c6d43341df",
   "metadata": {},
   "outputs": [],
   "source": [
    "from doddle import Doddle\n",
    "doddle = Doddle(size=5, lazy_eval=False)"
   ]
  },
  {
   "cell_type": "code",
   "execution_count": null,
   "id": "ceaa3319-ba99-4416-b992-6a5915b66d73",
   "metadata": {},
   "outputs": [],
   "source": [
    "scoreboard = doddle(answer=['FLAME', 'QUASH', 'DINER', 'GIRLY', 'STYLE', 'OPIUM', 'LEASE', 'ANVIL', 'KARMA', 'SMITH', 'ZESTY', 'GRACE','PANSY','STERN','ALLEY','MODEM'])\n",
    "emojis = scoreboard.emoji()\n",
    "print(emojis)"
   ]
  },
  {
   "cell_type": "code",
   "execution_count": null,
   "id": "049a47ed-4b18-4f39-847e-d7dd9c7b0081",
   "metadata": {},
   "outputs": [],
   "source": [
    "scoreboard.many()[11].df()\n",
    "scoreboard.df().tail(58)\n",
    "scoreboard.many()[10].df()"
   ]
  }
 ],
 "metadata": {
  "kernelspec": {
   "display_name": "Python 3 (ipykernel)",
   "language": "python",
   "name": "python3"
  },
  "language_info": {
   "codemirror_mode": {
    "name": "ipython",
    "version": 3
   },
   "file_extension": ".py",
   "mimetype": "text/x-python",
   "name": "python",
   "nbconvert_exporter": "python",
   "pygments_lexer": "ipython3",
   "version": "3.10.2"
  }
 },
 "nbformat": 4,
 "nbformat_minor": 5
}
